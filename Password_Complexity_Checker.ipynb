{
  "nbformat": 4,
  "nbformat_minor": 0,
  "metadata": {
    "colab": {
      "provenance": [],
      "authorship_tag": "ABX9TyM/cgA9UbfxbeRa5yZYAjqL",
      "include_colab_link": true
    },
    "kernelspec": {
      "name": "python3",
      "display_name": "Python 3"
    },
    "language_info": {
      "name": "python"
    },
    "widgets": {
      "application/vnd.jupyter.widget-state+json": {
        "7f722d0022d44913b26099e1f31cdd86": {
          "model_module": "@jupyter-widgets/controls",
          "model_name": "PasswordModel",
          "model_module_version": "1.5.0",
          "state": {
            "_dom_classes": [],
            "_model_module": "@jupyter-widgets/controls",
            "_model_module_version": "1.5.0",
            "_model_name": "PasswordModel",
            "_view_count": null,
            "_view_module": "@jupyter-widgets/controls",
            "_view_module_version": "1.5.0",
            "_view_name": "PasswordView",
            "continuous_update": true,
            "description": "",
            "description_tooltip": null,
            "disabled": false,
            "layout": "IPY_MODEL_c7b4e50e551a49c78528bef748b5f453",
            "placeholder": "Enter your password",
            "style": "IPY_MODEL_c174e24ca8ba47328b2a1d5ad545261e",
            "value": "adauiA1$jn"
          }
        },
        "c7b4e50e551a49c78528bef748b5f453": {
          "model_module": "@jupyter-widgets/base",
          "model_name": "LayoutModel",
          "model_module_version": "1.2.0",
          "state": {
            "_model_module": "@jupyter-widgets/base",
            "_model_module_version": "1.2.0",
            "_model_name": "LayoutModel",
            "_view_count": null,
            "_view_module": "@jupyter-widgets/base",
            "_view_module_version": "1.2.0",
            "_view_name": "LayoutView",
            "align_content": null,
            "align_items": null,
            "align_self": null,
            "border": null,
            "bottom": null,
            "display": null,
            "flex": null,
            "flex_flow": null,
            "grid_area": null,
            "grid_auto_columns": null,
            "grid_auto_flow": null,
            "grid_auto_rows": null,
            "grid_column": null,
            "grid_gap": null,
            "grid_row": null,
            "grid_template_areas": null,
            "grid_template_columns": null,
            "grid_template_rows": null,
            "height": null,
            "justify_content": null,
            "justify_items": null,
            "left": null,
            "margin": null,
            "max_height": null,
            "max_width": null,
            "min_height": null,
            "min_width": null,
            "object_fit": null,
            "object_position": null,
            "order": null,
            "overflow": null,
            "overflow_x": null,
            "overflow_y": null,
            "padding": null,
            "right": null,
            "top": null,
            "visibility": null,
            "width": null
          }
        },
        "c174e24ca8ba47328b2a1d5ad545261e": {
          "model_module": "@jupyter-widgets/controls",
          "model_name": "DescriptionStyleModel",
          "model_module_version": "1.5.0",
          "state": {
            "_model_module": "@jupyter-widgets/controls",
            "_model_module_version": "1.5.0",
            "_model_name": "DescriptionStyleModel",
            "_view_count": null,
            "_view_module": "@jupyter-widgets/base",
            "_view_module_version": "1.2.0",
            "_view_name": "StyleView",
            "description_width": ""
          }
        },
        "39059fc2b72a49e78d427f7ed5ab07ab": {
          "model_module": "@jupyter-widgets/controls",
          "model_name": "ButtonModel",
          "model_module_version": "1.5.0",
          "state": {
            "_dom_classes": [],
            "_model_module": "@jupyter-widgets/controls",
            "_model_module_version": "1.5.0",
            "_model_name": "ButtonModel",
            "_view_count": null,
            "_view_module": "@jupyter-widgets/controls",
            "_view_module_version": "1.5.0",
            "_view_name": "ButtonView",
            "button_style": "",
            "description": "Check Password",
            "disabled": false,
            "icon": "",
            "layout": "IPY_MODEL_5a40d0eb240a4f4e9abe6c59b213273b",
            "style": "IPY_MODEL_0c77e7172c364e3fa8f2221de5e7e293",
            "tooltip": ""
          }
        },
        "5a40d0eb240a4f4e9abe6c59b213273b": {
          "model_module": "@jupyter-widgets/base",
          "model_name": "LayoutModel",
          "model_module_version": "1.2.0",
          "state": {
            "_model_module": "@jupyter-widgets/base",
            "_model_module_version": "1.2.0",
            "_model_name": "LayoutModel",
            "_view_count": null,
            "_view_module": "@jupyter-widgets/base",
            "_view_module_version": "1.2.0",
            "_view_name": "LayoutView",
            "align_content": null,
            "align_items": null,
            "align_self": null,
            "border": null,
            "bottom": null,
            "display": null,
            "flex": null,
            "flex_flow": null,
            "grid_area": null,
            "grid_auto_columns": null,
            "grid_auto_flow": null,
            "grid_auto_rows": null,
            "grid_column": null,
            "grid_gap": null,
            "grid_row": null,
            "grid_template_areas": null,
            "grid_template_columns": null,
            "grid_template_rows": null,
            "height": null,
            "justify_content": null,
            "justify_items": null,
            "left": null,
            "margin": null,
            "max_height": null,
            "max_width": null,
            "min_height": null,
            "min_width": null,
            "object_fit": null,
            "object_position": null,
            "order": null,
            "overflow": null,
            "overflow_x": null,
            "overflow_y": null,
            "padding": null,
            "right": null,
            "top": null,
            "visibility": null,
            "width": null
          }
        },
        "0c77e7172c364e3fa8f2221de5e7e293": {
          "model_module": "@jupyter-widgets/controls",
          "model_name": "ButtonStyleModel",
          "model_module_version": "1.5.0",
          "state": {
            "_model_module": "@jupyter-widgets/controls",
            "_model_module_version": "1.5.0",
            "_model_name": "ButtonStyleModel",
            "_view_count": null,
            "_view_module": "@jupyter-widgets/base",
            "_view_module_version": "1.2.0",
            "_view_name": "StyleView",
            "button_color": null,
            "font_weight": ""
          }
        },
        "dd28f6fc79f1460bb760f4340eca9161": {
          "model_module": "@jupyter-widgets/controls",
          "model_name": "TextareaModel",
          "model_module_version": "1.5.0",
          "state": {
            "_dom_classes": [],
            "_model_module": "@jupyter-widgets/controls",
            "_model_module_version": "1.5.0",
            "_model_name": "TextareaModel",
            "_view_count": null,
            "_view_module": "@jupyter-widgets/controls",
            "_view_module_version": "1.5.0",
            "_view_name": "TextareaView",
            "continuous_update": true,
            "description": "",
            "description_tooltip": null,
            "disabled": true,
            "layout": "IPY_MODEL_4d81247dd858498fb665206459e658bb",
            "placeholder": "Result will appear here",
            "rows": null,
            "style": "IPY_MODEL_adda6817939148e895ce370c1ef8859f",
            "value": "Password Score: 5/5\nPassword Strength: Strong"
          }
        },
        "4d81247dd858498fb665206459e658bb": {
          "model_module": "@jupyter-widgets/base",
          "model_name": "LayoutModel",
          "model_module_version": "1.2.0",
          "state": {
            "_model_module": "@jupyter-widgets/base",
            "_model_module_version": "1.2.0",
            "_model_name": "LayoutModel",
            "_view_count": null,
            "_view_module": "@jupyter-widgets/base",
            "_view_module_version": "1.2.0",
            "_view_name": "LayoutView",
            "align_content": null,
            "align_items": null,
            "align_self": null,
            "border": null,
            "bottom": null,
            "display": null,
            "flex": null,
            "flex_flow": null,
            "grid_area": null,
            "grid_auto_columns": null,
            "grid_auto_flow": null,
            "grid_auto_rows": null,
            "grid_column": null,
            "grid_gap": null,
            "grid_row": null,
            "grid_template_areas": null,
            "grid_template_columns": null,
            "grid_template_rows": null,
            "height": null,
            "justify_content": null,
            "justify_items": null,
            "left": null,
            "margin": null,
            "max_height": null,
            "max_width": null,
            "min_height": null,
            "min_width": null,
            "object_fit": null,
            "object_position": null,
            "order": null,
            "overflow": null,
            "overflow_x": null,
            "overflow_y": null,
            "padding": null,
            "right": null,
            "top": null,
            "visibility": null,
            "width": null
          }
        },
        "adda6817939148e895ce370c1ef8859f": {
          "model_module": "@jupyter-widgets/controls",
          "model_name": "DescriptionStyleModel",
          "model_module_version": "1.5.0",
          "state": {
            "_model_module": "@jupyter-widgets/controls",
            "_model_module_version": "1.5.0",
            "_model_name": "DescriptionStyleModel",
            "_view_count": null,
            "_view_module": "@jupyter-widgets/base",
            "_view_module_version": "1.2.0",
            "_view_name": "StyleView",
            "description_width": ""
          }
        },
        "91c6304180aa4591b10702e1ff010004": {
          "model_module": "@jupyter-widgets/controls",
          "model_name": "TextareaModel",
          "model_module_version": "1.5.0",
          "state": {
            "_dom_classes": [],
            "_model_module": "@jupyter-widgets/controls",
            "_model_module_version": "1.5.0",
            "_model_name": "TextareaModel",
            "_view_count": null,
            "_view_module": "@jupyter-widgets/controls",
            "_view_module_version": "1.5.0",
            "_view_name": "TextareaView",
            "continuous_update": true,
            "description": "",
            "description_tooltip": null,
            "disabled": true,
            "layout": "IPY_MODEL_f4c8694b2e854288ac3d34ff4f141e19",
            "placeholder": "Feedback will appear here",
            "rows": null,
            "style": "IPY_MODEL_55070b213c59483387168aa8bf710b45",
            "value": ""
          }
        },
        "f4c8694b2e854288ac3d34ff4f141e19": {
          "model_module": "@jupyter-widgets/base",
          "model_name": "LayoutModel",
          "model_module_version": "1.2.0",
          "state": {
            "_model_module": "@jupyter-widgets/base",
            "_model_module_version": "1.2.0",
            "_model_name": "LayoutModel",
            "_view_count": null,
            "_view_module": "@jupyter-widgets/base",
            "_view_module_version": "1.2.0",
            "_view_name": "LayoutView",
            "align_content": null,
            "align_items": null,
            "align_self": null,
            "border": null,
            "bottom": null,
            "display": null,
            "flex": null,
            "flex_flow": null,
            "grid_area": null,
            "grid_auto_columns": null,
            "grid_auto_flow": null,
            "grid_auto_rows": null,
            "grid_column": null,
            "grid_gap": null,
            "grid_row": null,
            "grid_template_areas": null,
            "grid_template_columns": null,
            "grid_template_rows": null,
            "height": null,
            "justify_content": null,
            "justify_items": null,
            "left": null,
            "margin": null,
            "max_height": null,
            "max_width": null,
            "min_height": null,
            "min_width": null,
            "object_fit": null,
            "object_position": null,
            "order": null,
            "overflow": null,
            "overflow_x": null,
            "overflow_y": null,
            "padding": null,
            "right": null,
            "top": null,
            "visibility": null,
            "width": null
          }
        },
        "55070b213c59483387168aa8bf710b45": {
          "model_module": "@jupyter-widgets/controls",
          "model_name": "DescriptionStyleModel",
          "model_module_version": "1.5.0",
          "state": {
            "_model_module": "@jupyter-widgets/controls",
            "_model_module_version": "1.5.0",
            "_model_name": "DescriptionStyleModel",
            "_view_count": null,
            "_view_module": "@jupyter-widgets/base",
            "_view_module_version": "1.2.0",
            "_view_name": "StyleView",
            "description_width": ""
          }
        }
      }
    }
  },
  "cells": [
    {
      "cell_type": "markdown",
      "metadata": {
        "id": "view-in-github",
        "colab_type": "text"
      },
      "source": [
        "<a href=\"https://colab.research.google.com/github/fouzanhaider/PRODIGYtask3/blob/main/Password_Complexity_Checker.ipynb\" target=\"_parent\"><img src=\"https://colab.research.google.com/assets/colab-badge.svg\" alt=\"Open In Colab\"/></a>"
      ]
    },
    {
      "cell_type": "code",
      "execution_count": 2,
      "metadata": {
        "colab": {
          "base_uri": "https://localhost:8080/",
          "height": 249,
          "referenced_widgets": [
            "7f722d0022d44913b26099e1f31cdd86",
            "c7b4e50e551a49c78528bef748b5f453",
            "c174e24ca8ba47328b2a1d5ad545261e",
            "39059fc2b72a49e78d427f7ed5ab07ab",
            "5a40d0eb240a4f4e9abe6c59b213273b",
            "0c77e7172c364e3fa8f2221de5e7e293",
            "dd28f6fc79f1460bb760f4340eca9161",
            "4d81247dd858498fb665206459e658bb",
            "adda6817939148e895ce370c1ef8859f",
            "91c6304180aa4591b10702e1ff010004",
            "f4c8694b2e854288ac3d34ff4f141e19",
            "55070b213c59483387168aa8bf710b45"
          ]
        },
        "id": "p3BGLwSITz0I",
        "outputId": "158ba125-e475-4779-be8d-8b4465776a9e"
      },
      "outputs": [
        {
          "output_type": "display_data",
          "data": {
            "text/plain": [
              "Password(placeholder='Enter your password')"
            ],
            "application/vnd.jupyter.widget-view+json": {
              "version_major": 2,
              "version_minor": 0,
              "model_id": "7f722d0022d44913b26099e1f31cdd86"
            }
          },
          "metadata": {}
        },
        {
          "output_type": "display_data",
          "data": {
            "text/plain": [
              "Button(description='Check Password', style=ButtonStyle())"
            ],
            "application/vnd.jupyter.widget-view+json": {
              "version_major": 2,
              "version_minor": 0,
              "model_id": "39059fc2b72a49e78d427f7ed5ab07ab"
            }
          },
          "metadata": {}
        },
        {
          "output_type": "display_data",
          "data": {
            "text/plain": [
              "Textarea(value='', disabled=True, placeholder='Result will appear here')"
            ],
            "application/vnd.jupyter.widget-view+json": {
              "version_major": 2,
              "version_minor": 0,
              "model_id": "dd28f6fc79f1460bb760f4340eca9161"
            }
          },
          "metadata": {}
        },
        {
          "output_type": "display_data",
          "data": {
            "text/plain": [
              "Textarea(value='', disabled=True, placeholder='Feedback will appear here')"
            ],
            "application/vnd.jupyter.widget-view+json": {
              "version_major": 2,
              "version_minor": 0,
              "model_id": "91c6304180aa4591b10702e1ff010004"
            }
          },
          "metadata": {}
        }
      ],
      "source": [
        "import re\n",
        "import ipywidgets as widgets\n",
        "from IPython.display import display, clear_output\n",
        "\n",
        "# Function to check password complexity\n",
        "def check_password_complexity(password):\n",
        "    length_criteria = len(password) >= 8\n",
        "    lowercase_criteria = re.search(r'[a-z]', password) is not None\n",
        "    uppercase_criteria = re.search(r'[A-Z]', password) is not None\n",
        "    number_criteria = re.search(r'[0-9]', password) is not None\n",
        "    special_char_criteria = re.search(r'[\\W_]', password) is not None\n",
        "\n",
        "    # Calculate score\n",
        "    score = sum([length_criteria, lowercase_criteria, uppercase_criteria, number_criteria, special_char_criteria])\n",
        "\n",
        "    # Feedback messages\n",
        "    feedback = []\n",
        "    if not length_criteria:\n",
        "        feedback.append(\"Password should be at least 8 characters long.\")\n",
        "    if not lowercase_criteria:\n",
        "        feedback.append(\"Password should contain at least one lowercase letter.\")\n",
        "    if not uppercase_criteria:\n",
        "        feedback.append(\"Password should contain at least one uppercase letter.\")\n",
        "    if not number_criteria:\n",
        "        feedback.append(\"Password should contain at least one number.\")\n",
        "    if not special_char_criteria:\n",
        "        feedback.append(\"Password should contain at least one special character.\")\n",
        "\n",
        "    # Determine strength\n",
        "    strength = \"\"\n",
        "    if score == 5:\n",
        "        strength = \"Strong\"\n",
        "    elif score >= 3:\n",
        "        strength = \"Medium\"\n",
        "    else:\n",
        "        strength = \"Weak\"\n",
        "\n",
        "    return score, strength, feedback\n",
        "\n",
        "# Function to handle button click event\n",
        "def on_button_click(_):\n",
        "    password = password_input.value\n",
        "    score, strength, feedback = check_password_complexity(password)\n",
        "\n",
        "    result_output.value = f\"Password Score: {score}/5\\nPassword Strength: {strength}\"\n",
        "    feedback_output.value = \"\\n\".join(feedback)\n",
        "\n",
        "# Widgets for user input\n",
        "password_input = widgets.Password(placeholder='Enter your password')\n",
        "button = widgets.Button(description=\"Check Password\")\n",
        "button.on_click(on_button_click)\n",
        "result_output = widgets.Textarea(placeholder='Result will appear here', disabled=True)\n",
        "feedback_output = widgets.Textarea(placeholder='Feedback will appear here', disabled=True)\n",
        "\n",
        "# Display widgets\n",
        "display(password_input, button, result_output, feedback_output)\n"
      ]
    }
  ]
}